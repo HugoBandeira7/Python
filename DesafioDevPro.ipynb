{
  "nbformat": 4,
  "nbformat_minor": 0,
  "metadata": {
    "colab": {
      "name": "DesafioDevPro.ipynb",
      "provenance": [],
      "collapsed_sections": [],
      "authorship_tag": "ABX9TyNaG2kVRUarKJsIRlnLeBnz",
      "include_colab_link": true
    },
    "kernelspec": {
      "name": "python3",
      "display_name": "Python 3"
    },
    "language_info": {
      "name": "python"
    }
  },
  "cells": [
    {
      "cell_type": "markdown",
      "metadata": {
        "id": "view-in-github",
        "colab_type": "text"
      },
      "source": [
        "<a href=\"https://colab.research.google.com/github/HugoBandeira7/libpythonpro/blob/master/DesafioDevPro.ipynb\" target=\"_parent\"><img src=\"https://colab.research.google.com/assets/colab-badge.svg\" alt=\"Open In Colab\"/></a>"
      ]
    },
    {
      "cell_type": "markdown",
      "metadata": {
        "id": "pMLcurSrvvhs"
      },
      "source": [
        "# Desafio DevPro"
      ]
    },
    {
      "cell_type": "markdown",
      "metadata": {
        "id": "bhE1szSWw_e9"
      },
      "source": [
        "Nesta aula 01 vamos resolver alguns exercicios da [lista da python brasil](https://https://wiki.python.org.br/ListaDeExercicios)"
      ]
    },
    {
      "cell_type": "markdown",
      "metadata": {
        "id": "8-jmB2FWx1FF"
      },
      "source": [
        "[Estrutura Sequencial](https://https://wiki.python.org.br/EstruturaSequencial)"
      ]
    },
    {
      "cell_type": "markdown",
      "metadata": {
        "id": "ECJG-sGeyMyi"
      },
      "source": [
        "Exercicio 1"
      ]
    },
    {
      "cell_type": "code",
      "metadata": {
        "colab": {
          "base_uri": "https://localhost:8080/"
        },
        "id": "sIf9YKGqyyuZ",
        "outputId": "2dc04c67-21b3-46ac-ef76-9b700ae596d4"
      },
      "source": [
        "print('Olá mundo!')"
      ],
      "execution_count": null,
      "outputs": [
        {
          "output_type": "stream",
          "text": [
            "Olá mundo!\n"
          ],
          "name": "stdout"
        }
      ]
    },
    {
      "cell_type": "code",
      "metadata": {
        "colab": {
          "base_uri": "https://localhost:8080/"
        },
        "id": "1xexSjD-y2iU",
        "outputId": "ad4a3362-233b-414a-c03d-b27939c068b3"
      },
      "source": [
        "type('Ola mundo!')"
      ],
      "execution_count": null,
      "outputs": [
        {
          "output_type": "execute_result",
          "data": {
            "text/plain": [
              "str"
            ]
          },
          "metadata": {
            "tags": []
          },
          "execution_count": 7
        }
      ]
    },
    {
      "cell_type": "markdown",
      "metadata": {
        "id": "b-CtFmoVzDRX"
      },
      "source": [
        "Exercicio 2"
      ]
    },
    {
      "cell_type": "code",
      "metadata": {
        "colab": {
          "base_uri": "https://localhost:8080/"
        },
        "id": "nshfEZqhy-OP",
        "outputId": "76ee131c-834a-480d-f85f-1acb105c708d"
      },
      "source": [
        "numero = input('Digite um numero:')\n",
        "print(f'O numero informado foi: {numero}')"
      ],
      "execution_count": null,
      "outputs": [
        {
          "output_type": "stream",
          "text": [
            "Digite um numero:15\n",
            "O numero informado foi: 15\n"
          ],
          "name": "stdout"
        }
      ]
    },
    {
      "cell_type": "markdown",
      "metadata": {
        "id": "QBh5x1Gl0Lap"
      },
      "source": [
        "Exercicio 3"
      ]
    },
    {
      "cell_type": "code",
      "metadata": {
        "colab": {
          "base_uri": "https://localhost:8080/"
        },
        "id": "2Y3d1v5D0OXS",
        "outputId": "a749ff5b-efc7-4ca5-ea80-51eddb70419b"
      },
      "source": [
        "n1 = int(input('Informe o primeiro numero:'))\n",
        "n2 = int(input('Informe o segundo numero:'))\n",
        "soma = int(n1+n2)\n",
        "\n",
        "print(f'A soma é {soma}')"
      ],
      "execution_count": null,
      "outputs": [
        {
          "output_type": "stream",
          "text": [
            "Informe o primeiro numero:15\n",
            "Informe o segundo numero:20\n",
            "A soma é 35\n"
          ],
          "name": "stdout"
        }
      ]
    },
    {
      "cell_type": "markdown",
      "metadata": {
        "id": "1U9rsFWa3bxO"
      },
      "source": [
        "Exericio 4"
      ]
    },
    {
      "cell_type": "code",
      "metadata": {
        "colab": {
          "base_uri": "https://localhost:8080/"
        },
        "id": "Q_c95ylH3glN",
        "outputId": "b71511d6-2496-4ebf-eb95-4f21cf7c0b66"
      },
      "source": [
        "nt_1 = float(input('Informe a 1ª nota:'))\n",
        "nt_2 = float(input('Informe a 2ª nota:'))\n",
        "nt_3 = float(input('Informe a 3ª nota:'))\n",
        "nt_4 = float(input('Informe a 4ª nota:'))\n",
        "\n",
        "media = float((nt_1 + nt_2 + nt_3 + nt_4) / 4)\n",
        "\n",
        "print(f'A media entre as notas informadas é de:{media}')"
      ],
      "execution_count": null,
      "outputs": [
        {
          "output_type": "stream",
          "text": [
            "Informe a 1ª nota:12\n",
            "Informe a 2ª nota:10\n",
            "Informe a 3ª nota:15\n",
            "Informe a 4ª nota:8\n",
            "A media entre as notas informadas é de:11.25\n"
          ],
          "name": "stdout"
        }
      ]
    },
    {
      "cell_type": "markdown",
      "metadata": {
        "id": "mFH5NroH8Jg6"
      },
      "source": [
        "Exercicio 5"
      ]
    },
    {
      "cell_type": "code",
      "metadata": {
        "colab": {
          "base_uri": "https://localhost:8080/"
        },
        "id": "yHr_JCmd9avk",
        "outputId": "26f0eb78-1c59-4ab3-c722-f6cde36fe9f6"
      },
      "source": [
        "m = float(input('Informe a medida em metro:'))\n",
        "formula = float(m*100)\n",
        "\n",
        "print(f'A medida convertida para centimetros é de:{formula} cm')"
      ],
      "execution_count": null,
      "outputs": [
        {
          "output_type": "stream",
          "text": [
            "Informe a medida em metro:2.00\n",
            "A medida convertida para centimetros é de:200.0 cm\n"
          ],
          "name": "stdout"
        }
      ]
    },
    {
      "cell_type": "markdown",
      "metadata": {
        "id": "M1c68dJ4-MEX"
      },
      "source": [
        "Exercicio 6"
      ]
    },
    {
      "cell_type": "code",
      "metadata": {
        "colab": {
          "base_uri": "https://localhost:8080/"
        },
        "id": "XfH0EdUqASMT",
        "outputId": "71b11a72-3def-4c66-ae4c-5fb3fd8f992e"
      },
      "source": [
        "raio = float(input('Informe o raio do circulo:'))\n",
        "area = 3,14 * (raio*raio)\n",
        "\n",
        "print(f'A area do circulo é de {area}')"
      ],
      "execution_count": null,
      "outputs": [
        {
          "output_type": "stream",
          "text": [
            "Informe o raio do circulo:20\n",
            "A area do circulo é de (3, 5600.0)\n"
          ],
          "name": "stdout"
        }
      ]
    },
    {
      "cell_type": "code",
      "metadata": {
        "id": "gho8NniIBZik"
      },
      "source": [
        ""
      ],
      "execution_count": null,
      "outputs": []
    },
    {
      "cell_type": "markdown",
      "metadata": {
        "id": "m1ZbjgagDL5I"
      },
      "source": [
        "Exercicio 7"
      ]
    },
    {
      "cell_type": "code",
      "metadata": {
        "colab": {
          "base_uri": "https://localhost:8080/"
        },
        "id": "P0EQkB9vDNtD",
        "outputId": "d383b52f-ac4e-43bb-ac73-2390de1d4e40"
      },
      "source": [
        "base = int(input('Informe a base do quadrado:'))\n",
        "altura = int(input('Informe a altura do quadrado:'))\n",
        "\n",
        "area = base * altura\n",
        "area_quadrado = area ** 2\n",
        "\n",
        "print(f'A area do quadrado é de :{area}')\n",
        "print(f'A area ao quadrado é de: {area_quadrado}')"
      ],
      "execution_count": null,
      "outputs": [
        {
          "output_type": "stream",
          "text": [
            "Informe a base do quadrado:5\n",
            "Informe a altura do quadrado:2\n",
            "A area do quadrado é de :10\n",
            "A area ao quadrado é de: 100\n"
          ],
          "name": "stdout"
        }
      ]
    },
    {
      "cell_type": "markdown",
      "metadata": {
        "id": "Na5JzFOjG618"
      },
      "source": [
        "Exercicio 8"
      ]
    },
    {
      "cell_type": "code",
      "metadata": {
        "colab": {
          "base_uri": "https://localhost:8080/"
        },
        "id": "_fYaQqcdG_DX",
        "outputId": "367b2fd4-7956-4426-b34b-01f268004254"
      },
      "source": [
        "sal_hora = int(input('Quanto você ganha por hora ? '))\n",
        "hr_trab = int(input('Quantas horas trabalhadas no mes? '))\n",
        "\n",
        "\n",
        "salario = float(sal_hora * hr_trab)\n",
        "\n",
        "print(f'O salario referido no mes é de R$ {salario}')"
      ],
      "execution_count": null,
      "outputs": [
        {
          "output_type": "stream",
          "text": [
            "Quanto você ganha por hora ? 8\n",
            "Quantas horas trabalhadas no mes? 176\n",
            "O salario referido no mes é de R$ 1408.0\n"
          ],
          "name": "stdout"
        }
      ]
    },
    {
      "cell_type": "markdown",
      "metadata": {
        "id": "jm26qUcDKxkk"
      },
      "source": [
        "Exercicio 9"
      ]
    },
    {
      "cell_type": "code",
      "metadata": {
        "colab": {
          "base_uri": "https://localhost:8080/"
        },
        "id": "hHr2yprkK21x",
        "outputId": "7c3d4503-b8b9-4191-f604-af05cae211ef"
      },
      "source": [
        "Fahrenheit = float(input('Informe a temperatura em Fahrenheit:'))\n",
        "Celsius = (5 * (Fahrenheit-32) / 9)\n",
        "\n",
        "print(f'A temperatura convertida em graus celsius é de: {Celsius} C')"
      ],
      "execution_count": null,
      "outputs": [
        {
          "output_type": "stream",
          "text": [
            "Informe a temperatura em Fahrenheit:80\n",
            "A temperatura convertida em graus celsius é de: 26.666666666666668 C\n"
          ],
          "name": "stdout"
        }
      ]
    },
    {
      "cell_type": "markdown",
      "metadata": {
        "id": "NhxDWlLgG4wQ"
      },
      "source": [
        ""
      ]
    },
    {
      "cell_type": "markdown",
      "metadata": {
        "id": "GZ3b1P8XMevF"
      },
      "source": [
        "Exercicio 10"
      ]
    },
    {
      "cell_type": "code",
      "metadata": {
        "colab": {
          "base_uri": "https://localhost:8080/"
        },
        "id": "GwGiI-OJMgPS",
        "outputId": "ac06dd79-641c-43a0-f081-48cc581ca26f"
      },
      "source": [
        "Celsius = float(input('Informe uma temperatura em Celsius:'))\n",
        "Fahrenheit = (5*(Celsius-32) / 9)\n",
        "\n",
        "print(f'A temperatura convertida em graus Fahrenheit é de: {Fahrenheit} F')\n",
        "\n"
      ],
      "execution_count": null,
      "outputs": [
        {
          "output_type": "stream",
          "text": [
            "Informe uma temperatura em Celsius:8\n",
            "A temperatura convertida em graus Fahrenheit é de: -13.333333333333334 F\n"
          ],
          "name": "stdout"
        }
      ]
    },
    {
      "cell_type": "markdown",
      "metadata": {
        "id": "Mmi05tmZPfgE"
      },
      "source": [
        "Exercicio 11"
      ]
    },
    {
      "cell_type": "code",
      "metadata": {
        "colab": {
          "base_uri": "https://localhost:8080/"
        },
        "id": "hYU30xyHNdUe",
        "outputId": "7bc75655-ffb8-47b9-d092-bb3f55b949b5"
      },
      "source": [
        "N1 = int(input('Informe o primeiro numero:'))\n",
        "N2 = int(input('Informe o segundo numero:'))\n",
        "N3 = int(input('Informe o terceiro numero:'))\n",
        "\n",
        "soma_1 = (N1**2) + N2/2\n",
        "soma_2 = N1*3 + N3\n",
        "soma_3 = N3**3\n",
        "\n",
        "print(f'o produto do dobro do primeiro com metade do segundo é {soma_1} .')\n",
        "print(f'a soma do triplo do primeiro com o terceiro é {soma_2}.')\n",
        "print(f'o terceiro elevado ao cubo é {soma_3}')\n",
        "\n"
      ],
      "execution_count": null,
      "outputs": [
        {
          "output_type": "stream",
          "text": [
            "Informe o primeiro numero:4\n",
            "Informe o segundo numero:6\n",
            "Informe o terceiro numero:2\n",
            "o produto do dobro do primeiro com metade do segundo é 19.0 .\n",
            "a soma do triplo do primeiro com o terceiro é 14.\n",
            "o terceiro elevado ao cubo é 8\n"
          ],
          "name": "stdout"
        }
      ]
    },
    {
      "cell_type": "markdown",
      "metadata": {
        "id": "snVvKN_Chu9U"
      },
      "source": [
        "Exercicio 12"
      ]
    },
    {
      "cell_type": "code",
      "metadata": {
        "colab": {
          "base_uri": "https://localhost:8080/"
        },
        "id": "ikw4Rj4LhyJe",
        "outputId": "5b4258e7-2b8f-4663-ed2e-125b62a8105c"
      },
      "source": [
        "altura = float(input('Qual a sua altura ?'))\n",
        "peso_ideal = (72.7*altura) - 58 \n",
        "\n",
        "if peso_ideal < 90:\n",
        "  print(f'O seu peso {peso_ideal} KG esta ideal.')\n",
        "else:\n",
        "  print(f'O seu peso {peso_ideal}KG, esta acmia do peso')"
      ],
      "execution_count": null,
      "outputs": [
        {
          "output_type": "stream",
          "text": [
            "Qual a sua altura ?2.50\n",
            "O seu peso 123.75KG, esta acmia do peso\n"
          ],
          "name": "stdout"
        }
      ]
    },
    {
      "cell_type": "markdown",
      "metadata": {
        "id": "n7stgyr7zWZr"
      },
      "source": [
        "Exercicio 13\n"
      ]
    },
    {
      "cell_type": "code",
      "metadata": {
        "colab": {
          "base_uri": "https://localhost:8080/"
        },
        "id": "8TBqVGWQzbUZ",
        "outputId": "d96eb80f-53f2-478e-e332-6dbc34213d7c"
      },
      "source": [
        "sexo = int(input('Informe o seu sexo: ? (1) Homem (2)Mulher'))\n",
        "\n",
        "if sexo == 1:\n",
        "    altura_homem = float(input('Informe sua altura:'))\n",
        "    peso_homem = (72.7*altura_homem) - 58\n",
        "    print(f'O seu peso ideal é {peso_homem} kg') \n",
        "elif sexo == 2:\n",
        "    altura_mulher = float(input('Informe sua altura:'))\n",
        "    peso_mulher = (62.1*altura_mulher) - 44.7 \n",
        "    print(f'O seu peso ideal é {peso_mulher} kg')\n"
      ],
      "execution_count": null,
      "outputs": [
        {
          "output_type": "stream",
          "text": [
            "Informe o seu sexo: ? (1) Homem (2)Mulher1\n",
            "Informe sua altura:2.00\n",
            "O seu peso ideal é 87.4 kg\n"
          ],
          "name": "stdout"
        }
      ]
    },
    {
      "cell_type": "markdown",
      "metadata": {
        "id": "IoQoE7GYC5Mx"
      },
      "source": [
        "Exercicio 14"
      ]
    },
    {
      "cell_type": "code",
      "metadata": {
        "colab": {
          "base_uri": "https://localhost:8080/"
        },
        "id": "T3fQ6iSbpvar",
        "outputId": "73a92606-c9b9-4d2d-8c3b-7be624f34769"
      },
      "source": [
        "peso = int(input('Informe o peso do peixe: '))\n",
        "print('Para peso excedente a 50 kg , haverá cobrança de R$ 4,00 por kilo ')\n",
        "excesso = peso - 50\n",
        "\n",
        "\n",
        "if excesso > 0:\n",
        "  multa = excesso * 4\n",
        "  print(f'Você excedeu o limite do estabelecimento em {excesso} Kilos, e pagará uma multa de R$ {multa}')\n",
        "else:\n",
        "  print(f'O peso informado de {peso} kg está dentro do limite do estabelecimento')\n",
        "\n"
      ],
      "execution_count": null,
      "outputs": [
        {
          "output_type": "stream",
          "text": [
            "Informe o peso do peixe: 50\n",
            "Para peso excedente a 50 kg , haverá cobrança de R$ 4,00 por kilo \n",
            "O peso informado de 50 kg está dentro do limite do estabelecimento\n"
          ],
          "name": "stdout"
        }
      ]
    },
    {
      "cell_type": "markdown",
      "metadata": {
        "id": "imwEH8C7-N6B"
      },
      "source": [
        "Exercicio 15"
      ]
    },
    {
      "cell_type": "code",
      "metadata": {
        "colab": {
          "base_uri": "https://localhost:8080/"
        },
        "id": "7UgfFjPPzZm9",
        "outputId": "25e77a4b-90b2-4ed2-cbbe-ca79851b3693"
      },
      "source": [
        "ganho_hora = float(input('Ganho por hora: '))\n",
        "horas_mes = int(input('Horas trabalhadas mes : '))\n",
        "salario_bruto = ganho_hora * horas_mes\n",
        "print(f'O seu salario bruto é de R$ {salario_bruto:.0f}')\n",
        "\n",
        "ir = float(salario_bruto * 0.89)- salario_bruto\n",
        "inss = float(salario_bruto * 0.92) - salario_bruto\n",
        "sindicato = float(salario_bruto * 0.95) - salario_bruto\n",
        "\n",
        "print('Descontos:')\n",
        "print(f'Desconto IR (11%) : R$ {ir:.2f}')\n",
        "print(f'Desconto INSS (8%): R$ {inss:.2f}')\n",
        "print(f'Desconto Sindicato (5%): R$ {sindicato:.2f}')\n",
        "\n",
        "descontos = int((ir + inss + sindicato)*-1)\n",
        "print (f'Houve um desconto de R$ {descontos}')\n",
        "\n",
        "print('*** Salario Liquido: Salario bruto - Descontos ***')\n",
        "salario_liquido = salario_bruto - descontos\n",
        "print(f'O seu salario liquido a receber é de R$ {salario_liquido}')\n",
        "\n",
        "\n"
      ],
      "execution_count": null,
      "outputs": [
        {
          "output_type": "stream",
          "text": [
            "Ganho por hora: 6.50\n",
            "Horas trabalhadas mes : 176\n",
            "O seu salario bruto é de R$ 1144\n",
            "Descontos:\n",
            "Desconto IR (11%) : R$ -125.84\n",
            "Desconto INSS (8%): R$ -91.52\n",
            "Desconto Sindicato (5%): R$ -57.20\n",
            "Houve um desconto de R$ 274\n",
            "*** Salario Liquido: Salario bruto - Descontos ***\n",
            "O seu salario liquido a receber é de R$ 870.0\n"
          ],
          "name": "stdout"
        }
      ]
    },
    {
      "cell_type": "code",
      "metadata": {
        "id": "SNHrqxtcFlTM"
      },
      "source": [
        ""
      ],
      "execution_count": null,
      "outputs": []
    }
  ]
}
{
  "nbformat": 4,
  "nbformat_minor": 0,
  "metadata": {
    "colab": {
      "name": "DesafioDevPro.ipynb",
      "provenance": [],
      "collapsed_sections": [],
      "authorship_tag": "ABX9TyPjA8sua3pmi/Yv1MO7fSkB",
      "include_colab_link": true
    },
    "kernelspec": {
      "name": "python3",
      "display_name": "Python 3"
    },
    "language_info": {
      "name": "python"
    }
  },
  "cells": [
    {
      "cell_type": "markdown",
      "metadata": {
        "id": "view-in-github",
        "colab_type": "text"
      },
      "source": [
        "<a href=\"https://colab.research.google.com/github/HugoBandeira7/Python/blob/master/DesafioDevPro.ipynb\" target=\"_parent\"><img src=\"https://colab.research.google.com/assets/colab-badge.svg\" alt=\"Open In Colab\"/></a>"
      ]
    },
    {
      "cell_type": "markdown",
      "metadata": {
        "id": "pMLcurSrvvhs"
      },
      "source": [
        "# Desafio DevPro "
      ]
    },
    {
      "cell_type": "markdown",
      "metadata": {
        "id": "bhE1szSWw_e9"
      },
      "source": [
        "Nesta aula 01 vamos resolver alguns exercicios da [lista da python brasil](https://https://wiki.python.org.br/ListaDeExercicios)"
      ]
    },
    {
      "cell_type": "markdown",
      "metadata": {
        "id": "8-jmB2FWx1FF"
      },
      "source": [
        "[Estrutura Sequencial](https://https://wiki.python.org.br/EstruturaSequencial)"
      ]
    },
    {
      "cell_type": "markdown",
      "metadata": {
        "id": "ECJG-sGeyMyi"
      },
      "source": [
        "Exercicio 1"
      ]
    },
    {
      "cell_type": "code",
      "metadata": {
        "colab": {
          "base_uri": "https://localhost:8080/"
        },
        "id": "sIf9YKGqyyuZ",
        "outputId": "2dc04c67-21b3-46ac-ef76-9b700ae596d4"
      },
      "source": [
        "print('Olá mundo!')"
      ],
      "execution_count": null,
      "outputs": [
        {
          "output_type": "stream",
          "text": [
            "Olá mundo!\n"
          ],
          "name": "stdout"
        }
      ]
    },
    {
      "cell_type": "code",
      "metadata": {
        "colab": {
          "base_uri": "https://localhost:8080/"
        },
        "id": "1xexSjD-y2iU",
        "outputId": "ad4a3362-233b-414a-c03d-b27939c068b3"
      },
      "source": [
        "type('Ola mundo!')"
      ],
      "execution_count": null,
      "outputs": [
        {
          "output_type": "execute_result",
          "data": {
            "text/plain": [
              "str"
            ]
          },
          "metadata": {
            "tags": []
          },
          "execution_count": 7
        }
      ]
    },
    {
      "cell_type": "markdown",
      "metadata": {
        "id": "b-CtFmoVzDRX"
      },
      "source": [
        "Exercicio 2"
      ]
    },
    {
      "cell_type": "code",
      "metadata": {
        "colab": {
          "base_uri": "https://localhost:8080/"
        },
        "id": "nshfEZqhy-OP",
        "outputId": "76ee131c-834a-480d-f85f-1acb105c708d"
      },
      "source": [
        "numero = input('Digite um numero:')\n",
        "print(f'O numero informado foi: {numero}')"
      ],
      "execution_count": null,
      "outputs": [
        {
          "output_type": "stream",
          "text": [
            "Digite um numero:15\n",
            "O numero informado foi: 15\n"
          ],
          "name": "stdout"
        }
      ]
    },
    {
      "cell_type": "markdown",
      "metadata": {
        "id": "QBh5x1Gl0Lap"
      },
      "source": [
        "Exercicio 3"
      ]
    },
    {
      "cell_type": "code",
      "metadata": {
        "colab": {
          "base_uri": "https://localhost:8080/"
        },
        "id": "2Y3d1v5D0OXS",
        "outputId": "a749ff5b-efc7-4ca5-ea80-51eddb70419b"
      },
      "source": [
        "n1 = int(input('Informe o primeiro numero:'))\n",
        "n2 = int(input('Informe o segundo numero:'))\n",
        "soma = int(n1+n2)\n",
        "\n",
        "print(f'A soma é {soma}')"
      ],
      "execution_count": null,
      "outputs": [
        {
          "output_type": "stream",
          "text": [
            "Informe o primeiro numero:15\n",
            "Informe o segundo numero:20\n",
            "A soma é 35\n"
          ],
          "name": "stdout"
        }
      ]
    },
    {
      "cell_type": "markdown",
      "metadata": {
        "id": "1U9rsFWa3bxO"
      },
      "source": [
        "Exericio 4"
      ]
    },
    {
      "cell_type": "code",
      "metadata": {
        "colab": {
          "base_uri": "https://localhost:8080/"
        },
        "id": "Q_c95ylH3glN",
        "outputId": "b71511d6-2496-4ebf-eb95-4f21cf7c0b66"
      },
      "source": [
        "nt_1 = float(input('Informe a 1ª nota:'))\n",
        "nt_2 = float(input('Informe a 2ª nota:'))\n",
        "nt_3 = float(input('Informe a 3ª nota:'))\n",
        "nt_4 = float(input('Informe a 4ª nota:'))\n",
        "\n",
        "media = float((nt_1 + nt_2 + nt_3 + nt_4) / 4)\n",
        "\n",
        "print(f'A media entre as notas informadas é de:{media}')"
      ],
      "execution_count": null,
      "outputs": [
        {
          "output_type": "stream",
          "text": [
            "Informe a 1ª nota:12\n",
            "Informe a 2ª nota:10\n",
            "Informe a 3ª nota:15\n",
            "Informe a 4ª nota:8\n",
            "A media entre as notas informadas é de:11.25\n"
          ],
          "name": "stdout"
        }
      ]
    },
    {
      "cell_type": "markdown",
      "metadata": {
        "id": "mFH5NroH8Jg6"
      },
      "source": [
        "Exercicio 5"
      ]
    },
    {
      "cell_type": "code",
      "metadata": {
        "colab": {
          "base_uri": "https://localhost:8080/"
        },
        "id": "yHr_JCmd9avk",
        "outputId": "26f0eb78-1c59-4ab3-c722-f6cde36fe9f6"
      },
      "source": [
        "m = float(input('Informe a medida em metro:'))\n",
        "formula = float(m*100)\n",
        "\n",
        "print(f'A medida convertida para centimetros é de:{formula} cm')"
      ],
      "execution_count": null,
      "outputs": [
        {
          "output_type": "stream",
          "text": [
            "Informe a medida em metro:2.00\n",
            "A medida convertida para centimetros é de:200.0 cm\n"
          ],
          "name": "stdout"
        }
      ]
    },
    {
      "cell_type": "markdown",
      "metadata": {
        "id": "M1c68dJ4-MEX"
      },
      "source": [
        "Exercicio 6"
      ]
    },
    {
      "cell_type": "code",
      "metadata": {
        "colab": {
          "base_uri": "https://localhost:8080/"
        },
        "id": "XfH0EdUqASMT",
        "outputId": "71b11a72-3def-4c66-ae4c-5fb3fd8f992e"
      },
      "source": [
        "raio = float(input('Informe o raio do circulo:'))\n",
        "area = 3,14 * (raio*raio)\n",
        "\n",
        "print(f'A area do circulo é de {area}')"
      ],
      "execution_count": null,
      "outputs": [
        {
          "output_type": "stream",
          "text": [
            "Informe o raio do circulo:20\n",
            "A area do circulo é de (3, 5600.0)\n"
          ],
          "name": "stdout"
        }
      ]
    },
    {
      "cell_type": "code",
      "metadata": {
        "id": "gho8NniIBZik"
      },
      "source": [
        ""
      ],
      "execution_count": null,
      "outputs": []
    },
    {
      "cell_type": "markdown",
      "metadata": {
        "id": "m1ZbjgagDL5I"
      },
      "source": [
        "Exercicio 7"
      ]
    },
    {
      "cell_type": "code",
      "metadata": {
        "colab": {
          "base_uri": "https://localhost:8080/"
        },
        "id": "P0EQkB9vDNtD",
        "outputId": "d383b52f-ac4e-43bb-ac73-2390de1d4e40"
      },
      "source": [
        "base = int(input('Informe a base do quadrado:'))\n",
        "altura = int(input('Informe a altura do quadrado:'))\n",
        "\n",
        "area = base * altura\n",
        "area_quadrado = area ** 2\n",
        "\n",
        "print(f'A area do quadrado é de :{area}')\n",
        "print(f'A area ao quadrado é de: {area_quadrado}')"
      ],
      "execution_count": null,
      "outputs": [
        {
          "output_type": "stream",
          "text": [
            "Informe a base do quadrado:5\n",
            "Informe a altura do quadrado:2\n",
            "A area do quadrado é de :10\n",
            "A area ao quadrado é de: 100\n"
          ],
          "name": "stdout"
        }
      ]
    },
    {
      "cell_type": "markdown",
      "metadata": {
        "id": "Na5JzFOjG618"
      },
      "source": [
        "Exercicio 8"
      ]
    },
    {
      "cell_type": "code",
      "metadata": {
        "colab": {
          "base_uri": "https://localhost:8080/"
        },
        "id": "_fYaQqcdG_DX",
        "outputId": "367b2fd4-7956-4426-b34b-01f268004254"
      },
      "source": [
        "sal_hora = int(input('Quanto você ganha por hora ? '))\n",
        "hr_trab = int(input('Quantas horas trabalhadas no mes? '))\n",
        "\n",
        "\n",
        "salario = float(sal_hora * hr_trab)\n",
        "\n",
        "print(f'O salario referido no mes é de R$ {salario}')"
      ],
      "execution_count": null,
      "outputs": [
        {
          "output_type": "stream",
          "text": [
            "Quanto você ganha por hora ? 8\n",
            "Quantas horas trabalhadas no mes? 176\n",
            "O salario referido no mes é de R$ 1408.0\n"
          ],
          "name": "stdout"
        }
      ]
    },
    {
      "cell_type": "markdown",
      "metadata": {
        "id": "jm26qUcDKxkk"
      },
      "source": [
        "Exercicio 9"
      ]
    },
    {
      "cell_type": "code",
      "metadata": {
        "colab": {
          "base_uri": "https://localhost:8080/"
        },
        "id": "hHr2yprkK21x",
        "outputId": "7c3d4503-b8b9-4191-f604-af05cae211ef"
      },
      "source": [
        "Fahrenheit = float(input('Informe a temperatura em Fahrenheit:'))\n",
        "Celsius = (5 * (Fahrenheit-32) / 9)\n",
        "\n",
        "print(f'A temperatura convertida em graus celsius é de: {Celsius} C')"
      ],
      "execution_count": null,
      "outputs": [
        {
          "output_type": "stream",
          "text": [
            "Informe a temperatura em Fahrenheit:80\n",
            "A temperatura convertida em graus celsius é de: 26.666666666666668 C\n"
          ],
          "name": "stdout"
        }
      ]
    },
    {
      "cell_type": "markdown",
      "metadata": {
        "id": "NhxDWlLgG4wQ"
      },
      "source": [
        ""
      ]
    },
    {
      "cell_type": "markdown",
      "metadata": {
        "id": "GZ3b1P8XMevF"
      },
      "source": [
        "Exercicio 10"
      ]
    },
    {
      "cell_type": "code",
      "metadata": {
        "colab": {
          "base_uri": "https://localhost:8080/"
        },
        "id": "GwGiI-OJMgPS",
        "outputId": "ac06dd79-641c-43a0-f081-48cc581ca26f"
      },
      "source": [
        "Celsius = float(input('Informe uma temperatura em Celsius:'))\n",
        "Fahrenheit = (5*(Celsius-32) / 9)\n",
        "\n",
        "print(f'A temperatura convertida em graus Fahrenheit é de: {Fahrenheit} F')\n",
        "\n"
      ],
      "execution_count": null,
      "outputs": [
        {
          "output_type": "stream",
          "text": [
            "Informe uma temperatura em Celsius:8\n",
            "A temperatura convertida em graus Fahrenheit é de: -13.333333333333334 F\n"
          ],
          "name": "stdout"
        }
      ]
    },
    {
      "cell_type": "markdown",
      "metadata": {
        "id": "Mmi05tmZPfgE"
      },
      "source": [
        "Exercicio 11"
      ]
    },
    {
      "cell_type": "code",
      "metadata": {
        "colab": {
          "base_uri": "https://localhost:8080/"
        },
        "id": "hYU30xyHNdUe",
        "outputId": "7bc75655-ffb8-47b9-d092-bb3f55b949b5"
      },
      "source": [
        "N1 = int(input('Informe o primeiro numero:'))\n",
        "N2 = int(input('Informe o segundo numero:'))\n",
        "N3 = int(input('Informe o terceiro numero:'))\n",
        "\n",
        "soma_1 = (N1**2) + N2/2\n",
        "soma_2 = N1*3 + N3\n",
        "soma_3 = N3**3\n",
        "\n",
        "print(f'o produto do dobro do primeiro com metade do segundo é {soma_1} .')\n",
        "print(f'a soma do triplo do primeiro com o terceiro é {soma_2}.')\n",
        "print(f'o terceiro elevado ao cubo é {soma_3}')\n",
        "\n"
      ],
      "execution_count": null,
      "outputs": [
        {
          "output_type": "stream",
          "text": [
            "Informe o primeiro numero:4\n",
            "Informe o segundo numero:6\n",
            "Informe o terceiro numero:2\n",
            "o produto do dobro do primeiro com metade do segundo é 19.0 .\n",
            "a soma do triplo do primeiro com o terceiro é 14.\n",
            "o terceiro elevado ao cubo é 8\n"
          ],
          "name": "stdout"
        }
      ]
    },
    {
      "cell_type": "markdown",
      "metadata": {
        "id": "snVvKN_Chu9U"
      },
      "source": [
        "Exercicio 12"
      ]
    },
    {
      "cell_type": "code",
      "metadata": {
        "colab": {
          "base_uri": "https://localhost:8080/"
        },
        "id": "ikw4Rj4LhyJe",
        "outputId": "5b4258e7-2b8f-4663-ed2e-125b62a8105c"
      },
      "source": [
        "altura = float(input('Qual a sua altura ?'))\n",
        "peso_ideal = (72.7*altura) - 58 \n",
        "\n",
        "if peso_ideal < 90:\n",
        "  print(f'O seu peso {peso_ideal} KG esta ideal.')\n",
        "else:\n",
        "  print(f'O seu peso {peso_ideal}KG, esta acmia do peso')"
      ],
      "execution_count": null,
      "outputs": [
        {
          "output_type": "stream",
          "text": [
            "Qual a sua altura ?2.50\n",
            "O seu peso 123.75KG, esta acmia do peso\n"
          ],
          "name": "stdout"
        }
      ]
    },
    {
      "cell_type": "markdown",
      "metadata": {
        "id": "n7stgyr7zWZr"
      },
      "source": [
        "Exercicio 13\n"
      ]
    },
    {
      "cell_type": "code",
      "metadata": {
        "colab": {
          "base_uri": "https://localhost:8080/"
        },
        "id": "8TBqVGWQzbUZ",
        "outputId": "d96eb80f-53f2-478e-e332-6dbc34213d7c"
      },
      "source": [
        "sexo = int(input('Informe o seu sexo: ? (1) Homem (2)Mulher'))\n",
        "\n",
        "if sexo == 1:\n",
        "    altura_homem = float(input('Informe sua altura:'))\n",
        "    peso_homem = (72.7*altura_homem) - 58\n",
        "    print(f'O seu peso ideal é {peso_homem} kg') \n",
        "elif sexo == 2:\n",
        "    altura_mulher = float(input('Informe sua altura:'))\n",
        "    peso_mulher = (62.1*altura_mulher) - 44.7 \n",
        "    print(f'O seu peso ideal é {peso_mulher} kg')\n"
      ],
      "execution_count": null,
      "outputs": [
        {
          "output_type": "stream",
          "text": [
            "Informe o seu sexo: ? (1) Homem (2)Mulher1\n",
            "Informe sua altura:2.00\n",
            "O seu peso ideal é 87.4 kg\n"
          ],
          "name": "stdout"
        }
      ]
    },
    {
      "cell_type": "markdown",
      "metadata": {
        "id": "IoQoE7GYC5Mx"
      },
      "source": [
        "Exercicio 14"
      ]
    },
    {
      "cell_type": "code",
      "metadata": {
        "colab": {
          "base_uri": "https://localhost:8080/"
        },
        "id": "T3fQ6iSbpvar",
        "outputId": "73a92606-c9b9-4d2d-8c3b-7be624f34769"
      },
      "source": [
        "peso = int(input('Informe o peso do peixe: '))\n",
        "print('Para peso excedente a 50 kg , haverá cobrança de R$ 4,00 por kilo ')\n",
        "excesso = peso - 50\n",
        "\n",
        "\n",
        "if excesso > 0:\n",
        "  multa = excesso * 4\n",
        "  print(f'Você excedeu o limite do estabelecimento em {excesso} Kilos, e pagará uma multa de R$ {multa}')\n",
        "else:\n",
        "  print(f'O peso informado de {peso} kg está dentro do limite do estabelecimento')\n",
        "\n"
      ],
      "execution_count": null,
      "outputs": [
        {
          "output_type": "stream",
          "text": [
            "Informe o peso do peixe: 50\n",
            "Para peso excedente a 50 kg , haverá cobrança de R$ 4,00 por kilo \n",
            "O peso informado de 50 kg está dentro do limite do estabelecimento\n"
          ],
          "name": "stdout"
        }
      ]
    },
    {
      "cell_type": "markdown",
      "metadata": {
        "id": "imwEH8C7-N6B"
      },
      "source": [
        "Exercicio 15"
      ]
    },
    {
      "cell_type": "code",
      "metadata": {
        "colab": {
          "base_uri": "https://localhost:8080/"
        },
        "id": "7UgfFjPPzZm9",
        "outputId": "25e77a4b-90b2-4ed2-cbbe-ca79851b3693"
      },
      "source": [
        "ganho_hora = float(input('Ganho por hora: '))\n",
        "horas_mes = int(input('Horas trabalhadas mes : '))\n",
        "salario_bruto = ganho_hora * horas_mes\n",
        "print(f'O seu salario bruto é de R$ {salario_bruto:.0f}')\n",
        "\n",
        "ir = float(salario_bruto * 0.89)- salario_bruto\n",
        "inss = float(salario_bruto * 0.92) - salario_bruto\n",
        "sindicato = float(salario_bruto * 0.95) - salario_bruto\n",
        "\n",
        "print('Descontos:')\n",
        "print(f'Desconto IR (11%) : R$ {ir:.2f}')\n",
        "print(f'Desconto INSS (8%): R$ {inss:.2f}')\n",
        "print(f'Desconto Sindicato (5%): R$ {sindicato:.2f}')\n",
        "\n",
        "descontos = int((ir + inss + sindicato)*-1)\n",
        "print (f'Houve um desconto de R$ {descontos}')\n",
        "\n",
        "print('*** Salario Liquido: Salario bruto - Descontos ***')\n",
        "salario_liquido = salario_bruto - descontos\n",
        "print(f'O seu salario liquido a receber é de R$ {salario_liquido}')\n",
        "\n",
        "\n"
      ],
      "execution_count": null,
      "outputs": [
        {
          "output_type": "stream",
          "text": [
            "Ganho por hora: 6.50\n",
            "Horas trabalhadas mes : 176\n",
            "O seu salario bruto é de R$ 1144\n",
            "Descontos:\n",
            "Desconto IR (11%) : R$ -125.84\n",
            "Desconto INSS (8%): R$ -91.52\n",
            "Desconto Sindicato (5%): R$ -57.20\n",
            "Houve um desconto de R$ 274\n",
            "*** Salario Liquido: Salario bruto - Descontos ***\n",
            "O seu salario liquido a receber é de R$ 870.0\n"
          ],
          "name": "stdout"
        }
      ]
    },
    {
      "cell_type": "markdown",
      "metadata": {
        "id": "OavZeSsyRCe0"
      },
      "source": [
        "[Estrutura de Decisão](https://https://wiki.python.org.br/EstruturaDeDecisao)"
      ]
    },
    {
      "cell_type": "markdown",
      "metadata": {
        "id": "Mno648wyRidi"
      },
      "source": [
        "Exercicio 01"
      ]
    },
    {
      "cell_type": "code",
      "metadata": {
        "colab": {
          "base_uri": "https://localhost:8080/"
        },
        "id": "j75DZ1NpRkKk",
        "outputId": "3b65a115-fd08-47e7-856b-ded0e4e72193"
      },
      "source": [
        "n01 = int(input('Informe o primeiro numero:'))\n",
        "n02 = int(input('Informe o segundo numero:'))\n",
        "\n",
        "if n01 > n02:\n",
        "  print(f'O numero {n01} é maior que {n02}')\n",
        "else:\n",
        "  print(f'O numero {n02} é maior que o {n01}')"
      ],
      "execution_count": null,
      "outputs": [
        {
          "output_type": "stream",
          "text": [
            "Informe o primeiro numero:10\n",
            "Informe o segundo numero:9\n",
            "O numero 10 é maior que 9\n"
          ],
          "name": "stdout"
        }
      ]
    },
    {
      "cell_type": "markdown",
      "metadata": {
        "id": "h93--Rj-YrmL"
      },
      "source": [
        "Exercicio 02"
      ]
    },
    {
      "cell_type": "code",
      "metadata": {
        "colab": {
          "base_uri": "https://localhost:8080/"
        },
        "id": "gyu9tr7HYuyT",
        "outputId": "9ae9243c-4fde-4c9f-f395-ee0dce2d6a14"
      },
      "source": [
        "n = int(input('Informe um numero: '))\n",
        "\n",
        "if n >= 0:\n",
        "  print(f'O numero {n} é positivo')\n",
        "else:\n",
        "  print(f'O numero {n} é negativo')\n"
      ],
      "execution_count": null,
      "outputs": [
        {
          "output_type": "stream",
          "text": [
            "Informe um numero: -1\n",
            "O numero -1 é negativo\n"
          ],
          "name": "stdout"
        }
      ]
    },
    {
      "cell_type": "markdown",
      "metadata": {
        "id": "x4sFQQdHaS0I"
      },
      "source": [
        "Exercicio 03"
      ]
    },
    {
      "cell_type": "code",
      "metadata": {
        "colab": {
          "base_uri": "https://localhost:8080/"
        },
        "id": "PzfNJ6VhaWI2",
        "outputId": "76d8ea56-9d57-429d-fe11-8e13f4682c28"
      },
      "source": [
        "genero = str(input('Informe seu sexo: [M] - Masculino - [F] Feminino :  '))\n",
        "\n",
        "if genero == 'M':\n",
        "    print('O sexo informado é do genero Masculino')\n",
        "elif genero == 'F':\n",
        "    print(f'O sexo {genero} informado é do genero Feminino')\n",
        "else:\n",
        "    print('Sexo invalido')\n"
      ],
      "execution_count": null,
      "outputs": [
        {
          "output_type": "stream",
          "text": [
            "Informe seu sexo: [M] - Masculino - [F] Feminino :  F\n",
            "O sexo F informado é do genero Feminino\n"
          ],
          "name": "stdout"
        }
      ]
    },
    {
      "cell_type": "markdown",
      "metadata": {
        "id": "5r3hEZRPo1mo"
      },
      "source": [
        "Exercicio 04"
      ]
    },
    {
      "cell_type": "code",
      "metadata": {
        "colab": {
          "base_uri": "https://localhost:8080/"
        },
        "id": "iPh9QxJso4OI",
        "outputId": "e6791e28-5402-4843-9e2d-e33c5144496f"
      },
      "source": [
        "letra = str(input('Informe uma letra: '))\n",
        "\n",
        "if letra == 'a' or letra == 'e' or letra == 'i' or letra == 'o' or letra == 'u':\n",
        "  print('A letra informada é uma vogal')\n",
        "else:\n",
        "  print('A letra iformada é uma consoante')"
      ],
      "execution_count": null,
      "outputs": [
        {
          "output_type": "stream",
          "text": [
            "Informe uma letra: f\n",
            "A letra iformada é uma consoante\n"
          ],
          "name": "stdout"
        }
      ]
    },
    {
      "cell_type": "markdown",
      "metadata": {
        "id": "uiEGweIxrIHf"
      },
      "source": [
        "Exercicio 05"
      ]
    },
    {
      "cell_type": "code",
      "metadata": {
        "colab": {
          "base_uri": "https://localhost:8080/"
        },
        "id": "yGsKPwDQrK67",
        "outputId": "4c8a850d-4606-430c-c756-ad9d28e6a76e"
      },
      "source": [
        "nota_01 = float(input('Informe a primeira nota: '))\n",
        "nota_02 = float(input('Informe a segunda nota: '))\n",
        "\n",
        "media = float(nota_01 + nota_02)/2\n",
        "\n",
        "if media <= 9 and media >=7:\n",
        "  print(f'A media foi de {media}. O aluno esta aprovado !')\n",
        "\n",
        "if media <7:\n",
        "  print(f'A sua media foi de {media}. O aluno esta reprovado')\n",
        "\n",
        "elif media == 10:\n",
        "  print(f'A sua media foi de {media}. O aluno foi aprovado com Distinção !')"
      ],
      "execution_count": null,
      "outputs": [
        {
          "output_type": "stream",
          "text": [
            "Informe a primeira nota: 10\n",
            "Informe a segunda nota: 10\n",
            "A sua media foi de 10.0. O aluno foi aprovado com Distinção !\n"
          ],
          "name": "stdout"
        }
      ]
    },
    {
      "cell_type": "markdown",
      "metadata": {
        "id": "ofEKydUnxq_o"
      },
      "source": [
        "Exercicio 06"
      ]
    },
    {
      "cell_type": "code",
      "metadata": {
        "colab": {
          "base_uri": "https://localhost:8080/"
        },
        "id": "AzwV-TwkxtFh",
        "outputId": "720f6b79-a174-4301-90c0-48f7245311ca"
      },
      "source": [
        "n1 = int(input('Informe o primeiro numero: '))\n",
        "n2 = int(input('Informe o segundo numero: '))\n",
        "n3 = int(input('Informe o terceiro numero: '))\n",
        "\n",
        "if n1 > n2 and n1 > n3:\n",
        "  print(f'O numero {n1} é maior dos 3 informados')\n",
        "elif n2 > n1 and n2 > n3:\n",
        "  print(f'O numero {n2} é o maior dos 3 informados')\n",
        "else:\n",
        "  print(f'O numero {n3} é o maior dos 3 informados')\n"
      ],
      "execution_count": null,
      "outputs": [
        {
          "output_type": "stream",
          "text": [
            "Informe o primeiro numero: 8\n",
            "Informe o segundo numero: 48\n",
            "Informe o terceiro numero: 10\n",
            "O numero 48 é o maior dos 3 informados\n"
          ],
          "name": "stdout"
        }
      ]
    },
    {
      "cell_type": "markdown",
      "metadata": {
        "id": "xxi_DxAvObFy"
      },
      "source": [
        "Exercicio 07"
      ]
    },
    {
      "cell_type": "code",
      "metadata": {
        "colab": {
          "base_uri": "https://localhost:8080/"
        },
        "id": "4LczHMg0Odcd",
        "outputId": "30b4f9a2-7703-43c6-b67a-bd0b732ff917"
      },
      "source": [
        "n1 = int(input('Informe o primeiro numero:'))\n",
        "n2 = int(input('Informe o segundo numero:'))\n",
        "n3 = int(input('Informe o terceiro numero:'))\n",
        "\n",
        "if n1 > n2 and n1 > n3:\n",
        "  print(f'O numero {n1} é maior dos 3 informados')\n",
        "elif n2 > n1 and n2 > n3:\n",
        "  print(f'O numero {n2} é o maior dos 3 informados')\n",
        "else:\n",
        "  print(f'O numero {n3} é o maior dos 3 informados')\n",
        "\n",
        "if n1 < n2 and n1 < n3:\n",
        "  print(f'O numero {n1} é menor dos 3 informados')\n",
        "elif n2 < n1 and n2 < n3:\n",
        "  print(f'O numero {n2} é o menor dos 3 informados')\n",
        "else:\n",
        "  print(f'O numero {n3} é o menor dos 3 informados')"
      ],
      "execution_count": 3,
      "outputs": [
        {
          "output_type": "stream",
          "text": [
            "Informe o primeiro numero:80\n",
            "Informe o segundo numero:40\n",
            "Informe o terceiro numero:10\n",
            "O numero 80 é maior dos 3 informados\n",
            "O numero 10 é o menor dos 3 informados\n"
          ],
          "name": "stdout"
        }
      ]
    },
    {
      "cell_type": "markdown",
      "metadata": {
        "id": "k9mlc3jeQlT6"
      },
      "source": [
        "Exercicio 08"
      ]
    },
    {
      "cell_type": "code",
      "metadata": {
        "colab": {
          "base_uri": "https://localhost:8080/"
        },
        "id": "HOyri20HQn3h",
        "outputId": "9643b98f-bbaa-45e7-f4d6-5bbe0e9b9ec9"
      },
      "source": [
        "p01 = int(input('Informe o preço do produto A: '))\n",
        "p02 = int(input('Informe o preço do produto B: '))\n",
        "p03 = int(input('Informe o preço do produto C: '))\n",
        "\n",
        "if p01 <  p02 and p01 < p03:\n",
        "  print('O produto A é o mais barato dos 3 para sua compra')\n",
        "elif p02 < p01 and p02 < p03:\n",
        "  print('O produto B é o mais barato dos 3 para sua compra')\n",
        "else:\n",
        "  print('O produto C é o mais barato ds 3 para sua compra')"
      ],
      "execution_count": 6,
      "outputs": [
        {
          "output_type": "stream",
          "text": [
            "Informe o preço do produto A: 250\n",
            "Informe o preço do produto B: 150\n",
            "Informe o preço do produto C: 5\n",
            "O produto C é o mais barato ds 3 para sua compra\n"
          ],
          "name": "stdout"
        }
      ]
    },
    {
      "cell_type": "markdown",
      "metadata": {
        "id": "5VowVUNOVgJf"
      },
      "source": [
        "Exercicio 09"
      ]
    },
    {
      "cell_type": "code",
      "metadata": {
        "colab": {
          "base_uri": "https://localhost:8080/"
        },
        "id": "V-DiUi6LVh-S",
        "outputId": "57fab2cf-4923-4db0-c5e8-823834495dba"
      },
      "source": [
        "n01 = int(input('Informe o primeiro numero:'))\n",
        "n02 = int(input('Informe o segundo numero:'))1\n",
        "n03 = int(input('Informe o terceiro numero: '))\n",
        "\n"
      ],
      "execution_count": 7,
      "outputs": [
        {
          "output_type": "stream",
          "text": [
            "Informe o primeiro numero:10\n",
            "Informe o segundo numero:10\n",
            "Informe o terceiro numero: 0\n"
          ],
          "name": "stdout"
        }
      ]
    },
    {
      "cell_type": "markdown",
      "metadata": {
        "id": "cVG-yIhUetWE"
      },
      "source": [
        "Exercicio 10"
      ]
    },
    {
      "cell_type": "code",
      "metadata": {
        "colab": {
          "base_uri": "https://localhost:8080/"
        },
        "id": "1zPElOkkex6U",
        "outputId": "da8f18be-202d-4b6c-ec26-5c437811f260"
      },
      "source": [
        "turno = str(input('Qual o turno você estuda? [M]-Matutino, [V]-Vespertino ou [N]- Noturno:  '))\n",
        "\n",
        "if turno == 'M':\n",
        "  print('Bom dia!')\n",
        "\n",
        "elif turno == 'V':\n",
        "  print('Boa tarde!')\n",
        "\n",
        "else:\n",
        "  print('Boa noite!')"
      ],
      "execution_count": 10,
      "outputs": [
        {
          "output_type": "stream",
          "text": [
            "Qual o turno você estuda? [M]-Matutino, [V]-Vespertino ou [N]- Noturno:  N\n",
            "Boa noite!\n"
          ],
          "name": "stdout"
        }
      ]
    },
    {
      "cell_type": "markdown",
      "metadata": {
        "id": "eumuC2h3h_E5"
      },
      "source": [
        "Exercicio 11"
      ]
    },
    {
      "cell_type": "code",
      "metadata": {
        "colab": {
          "base_uri": "https://localhost:8080/"
        },
        "id": "KAtBOQEhiyGR",
        "outputId": "64290087-b5b3-404e-a070-31b617f376d2"
      },
      "source": [
        "salario = float(input('Informe qual o seu salario: R$ '))\n",
        "\n",
        "#salários até R$ 280,00 (incluindo) : aumento de 20%\n",
        "\n",
        "if salario <= 280:\n",
        "    aumento = (salario * 1.20)- salario\n",
        "    novo = salario + aumento\n",
        "    print(f'O seu salario antes do reajuste é de R$ {salario:.2f} ')\n",
        "    print('O percentual do aumento aplicado foi de 20%')\n",
        "    print(f'O valor do aumento aplicado foi de R$ {aumento:.2f}')\n",
        "    print(f'O novo salario é de R$ {novo:.2f}')\n",
        "\n",
        "#salários entre R$ 280,00 e R$ 700,00 : aumento de 15% \n",
        "\n",
        "elif salario > 280 and salario <= 700:\n",
        "    aumento = (salario * 1.15) - salario\n",
        "    novo = salario + aumento\n",
        "    print(f'O seu salario antes do reajuste é de R$ {salario:.2f}')\n",
        "    print('O percentual do aumento aplicado foi de 15%')\n",
        "    print(f'O valor do aumento aplicado foi de R$ {aumento:.2f}')\n",
        "    print(f'O novo salario é de R$ {novo:.2f}')\n",
        "\n",
        "#salários entre R$ 700,00 e R$ 1500,00 : aumento de 10% \n",
        "\n",
        "elif salario > 700 and salario <= 1500:\n",
        "    aumento = (salario * 1.10) - salario\n",
        "    novo = salario + aumento\n",
        "    print(f'O seu salario antes do reajuste é de R$ {salario:.2f}')\n",
        "    print('O percentual do aumento aplicado foi de 10%')\n",
        "    print(f'O valor do aumento aplicado foi de R$ {aumento:.2f}')\n",
        "    print(f'O novo salario é de R$ {novo:.2f}')\n",
        "\n",
        "#salários de R$ 1500,00 em diante : aumento de 5%: \n",
        "   \n",
        "elif salario > 1500:\n",
        "    aumento = (salario * 1.05) - salario\n",
        "    novo = salario + aumento\n",
        "    print(f'O seu salario antes do reajuste é de R$ {salario:.2f}')\n",
        "    print(f'O percentual do aumento apicado foi de 5%')\n",
        "    print(f'O valor do aumento aplicado foi de R$ {aumento:.2f}')\n",
        "    print(f'O novo salario é de R$ {novo:.2f}')"
      ],
      "execution_count": 36,
      "outputs": [
        {
          "output_type": "stream",
          "text": [
            "Informe qual o seu salario: R$ 1700\n",
            "O seu salario antes do reajuste é de R$ 1700.00\n",
            "O percentual do aumento apicado foi de 5%\n",
            "O valor do aumento aplicado foi de R$ 85.00\n",
            "O novo salario é de R$ 1785.00\n"
          ],
          "name": "stdout"
        }
      ]
    },
    {
      "cell_type": "code",
      "metadata": {
        "id": "AYA5U7h0mJh_"
      },
      "source": [
        ""
      ],
      "execution_count": null,
      "outputs": []
    }
  ]
}